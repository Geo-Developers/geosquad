{
 "cells": [
  {
   "cell_type": "markdown",
   "metadata": {},
   "source": [
    "# Scrapping Idealista Properties\n",
    "---\n",
    "### 1. Introduction\n",
    "---\n",
    "This is an example of how we can get information about properties offered in the [Idealista](https://www.idealista.com/) website, using `Node.js` and the `puppeteer` node package for the web scrapping. To follow this example, we need `Node.js` to be installed in our computer (go to [Node.js](https://nodejs.org/en/) website to download and install `Node.js`).\n",
    "\n",
    "> _**Note**: This example is only valid for windows. To follow this example with another operating system, the appropriate modifications must be made._\n",
    "\n",
    "### 2. Creating a JavaScript file\n",
    "---\n",
    "First, we create a JavaScript file in a directory that will contain all the files for the current project. To create an empty JavaScript file we type in our console the next command:"
   ]
  },
  {
   "cell_type": "code",
   "execution_count": null,
   "metadata": {},
   "outputs": [],
   "source": [
    "%%cmd\n",
    "npm init -y"
   ]
  },
  {
   "cell_type": "markdown",
   "metadata": {},
   "source": [
    "### 3. Installing packages\n",
    "---\n",
    "Once we created our JavaScript file, we install the additional packages we are going to use in the current project. For installing the packages we use the [npm](https://www.npmjs.com/) package manager for JavaScript. `npm` is distributed with `Node.js`, which means that when you download `Node.js`, you automatically get `npm` installed on your computer. Then we install `puppeteer` package typing the next command in the console:"
   ]
  },
  {
   "cell_type": "code",
   "execution_count": null,
   "metadata": {},
   "outputs": [],
   "source": [
    "%%cmd\n",
    "npm i puppeteer"
   ]
  },
  {
   "cell_type": "markdown",
   "metadata": {},
   "source": [
    "Go to this [puppeteer GitHub Repo](https://github.com/GoogleChrome/puppeteer) and follow the instructions to install and use the puppeteer node package in a project. Once we installed the package, we start writing code in our JavaScript file.\n",
    "\n",
    "We have to consider that `puppeteer` is a Node library which provides a high-level API to control [headless](https://developers.google.com/web/updates/2017/04/headless-chrome) Chrome over the [DevTools Protocol](https://chromedevtools.github.io/devtools-protocol/). It can also be configured to use full (non-headless) Chrome. `puppeteer` uses async/await promises. With puppeteer you can simulate a web navigation indicating the interactions you have to do in the web to get your results."
   ]
  },
  {
   "cell_type": "markdown",
   "metadata": {},
   "source": [
    "### 4. Writing the JavaScript file\n",
    "---\n",
    "To get information from a web page, we first have to know which information we want, and select that information with [CSS Selectors](http://flukeout.github.io/). It is convenient to start with a general CSS Selector that contains all the information to extract. Next, the image shows a container of an advertisement of the idealista website, specifying the CSS Selectors corresponding to the information to be extracted (in blue).\n",
    "\n",
    "<img src=\"img/idealista-ad.png\" width=\"700\">\n",
    "\n",
    "Then we create an array that contains all the information using the [Array.from()](https://developer.mozilla.org/es/docs/Web/JavaScript/Referencia/Objetos_globales/Array/from) method. An example of how using this method:\n",
    "\n",
    "```javascript\n",
    "// Creating a general array wich contains all the info\n",
    "const arr = Array.from(document.querySelectorAll('.item-info-container'));\n",
    "```\n",
    "\n",
    "This returns an array that contains every item specified with the CSS Selector.\n",
    "\n",
    "Using the [map()](https://developer.mozilla.org/en-US/docs/Web/JavaScript/Reference/Global_Objects/Map) function we create an object with the information we want, using the more specific CSS Selectors, and only returning the `textContent` property. Sometimes some elements contain unwanted spaces before and after the text. We can use the [trim()](https://developer.mozilla.org/es/docs/Web/JavaScript/Referencia/Objetos_globales/String/Trim) method to remove those spaces in text. In the same way, sometimes the text contains some unwanted characters, like the units of a measurement or any other character which limits the processing of the data. The [replace()](https://developer.mozilla.org/es/docs/Web/JavaScript/Referencia/Objetos_globales/String/replace) method can be used to replace those characters and normalize the text. An example of how using these methods:\n",
    "\n",
    "```javascript\n",
    "// Mapping the general array to obtain an array with only the info we want\n",
    "arr.map(el => ({Title : el.querySelector('.item-link').textContent, \n",
    "                Price : el.querySelector('.item-price').textContent.replace('€',''),\n",
    "                Description : el.querySelector('.item-description p').textContent,\n",
    "                Phone : el.querySelector('.item-not-clickable-phone').textContent.replace(/ /g,'')});\n",
    "```\n",
    "\n",
    "If we are interested to run the script more than once, we can create node parameters, so when we run the script the web scrapping will search for different results, depending on the parameter we introduce. In this example, we create a [node string parameter](https://nodejs.org/docs/latest/api/process.html#process_process_argv) to introduce the place where we want to find properties in the Idealista website. \n",
    "\n",
    "First, we have to create a node parameter, specifying a variable. Then, we have to call that variable in the searchbar where we want to introduce the text. `puppeteer` has a [page.type()](https://pptr.dev/#?product=Puppeteer&version=v1.5.0&show=api-pagetypeselector-text-options) method that allows you to type a text within an HTML element. An example of creating a node parameter and typing the text introduced in an HTML element:\n",
    "\n",
    "```javascript\n",
    "// Creating node parameter\n",
    "var search = process.argv[2];\n",
    "\n",
    "// Typing the text into an HTML element\n",
    "await page.type('#campoBus', search);\n",
    "```\n",
    "\n",
    "> _**Note**: Remember you have to specify the index of the node parameter (in this case is index 2)._\n",
    "\n",
    "### 5. Running the JavaScript file\n",
    "---\n",
    "To run the script we write the command that points to the JavaScript file and specify the node parameter \n",
    "between quotation marks, as shown in the following:\n",
    "\n",
    "> _**Note**: It is not necessary to use the quotes if the text to be entered as a parameter contains only one word. But if it contains two words it must have quotes. This is because the console interprets two parameters instead of one if there are no quotes. Example: \"San Sebastian de los Reyes\" would pass five parameters if it does not go in quotes)._"
   ]
  },
  {
   "cell_type": "code",
   "execution_count": null,
   "metadata": {},
   "outputs": [],
   "source": [
    "%%cmd\n",
    "node index.js \"madrid\""
   ]
  },
  {
   "cell_type": "markdown",
   "metadata": {},
   "source": [
    "First of all, when we run the script, it opens a Chromium browser and goes to the initial [Idealista](https://www.idealista.com/) website. Then, it types the node parameter (\"madrid\") in the search bar and clicks the search button. When the search has been done, titles, prices, details and descriptions of each property announced is extracted with CSS Selectors and an object is created. Then, every result is logged in the console, separated by `;` character, which allows to create a csv file using the next command:"
   ]
  },
  {
   "cell_type": "code",
   "execution_count": null,
   "metadata": {},
   "outputs": [],
   "source": [
    "%%cmd\n",
    "node index.js > results.csv "
   ]
  },
  {
   "cell_type": "markdown",
   "metadata": {},
   "source": [
    "### 6. Anti-bot request\n",
    "---\n",
    "Some websites have countermeasures to avoid web scrapping. However, some countermeasures can be avoided. Idealista has its own countermaesure. As a challenge, I let the reader make the appropriate modifications in the script to bypass the countermeasures imposed by the idealist, allowing it to be executed without any restraint.\n",
    "\n",
    "> _**Tips**: With puppeteer you can control the requests made on a website and prevent any of them from being made._ "
   ]
  }
 ],
 "metadata": {
  "kernelspec": {
   "display_name": "Python 3",
   "language": "python",
   "name": "python3"
  },
  "language_info": {
   "codemirror_mode": {
    "name": "ipython",
    "version": 3
   },
   "file_extension": ".py",
   "mimetype": "text/x-python",
   "name": "python",
   "nbconvert_exporter": "python",
   "pygments_lexer": "ipython3",
   "version": "3.6.4"
  }
 },
 "nbformat": 4,
 "nbformat_minor": 2
}
