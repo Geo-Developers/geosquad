{
 "cells": [
  {
   "cell_type": "markdown",
   "metadata": {},
   "source": [
    "# 4. Grouping and Sorting\n",
    "---\n",
    "### 4.1. Grouping\n",
    "---\n",
    "Sometimes we want to group our data to do something specific. To do this, we can use the `groupby` operation.\n",
    "\n",
    "For example, we can replicate what `value_counts` does using `groupby` by doing the following:"
   ]
  },
  {
   "cell_type": "code",
   "execution_count": 1,
   "metadata": {},
   "outputs": [
    {
     "data": {
      "text/plain": [
       "attacker_king\n",
       "Balon/Euron Greyjoy          7\n",
       "Joffrey/Tommen Baratheon    14\n",
       "Robb Stark                  10\n",
       "Stannis Baratheon            5\n",
       "Name: attacker_king, dtype: int64"
      ]
     },
     "execution_count": 1,
     "metadata": {},
     "output_type": "execute_result"
    }
   ],
   "source": [
    "import pandas as pd\n",
    "battles_got = pd.read_csv('datasets/battles.csv')\n",
    "battles_got.groupby('attacker_king').attacker_king.count()"
   ]
  },
  {
   "cell_type": "markdown",
   "metadata": {},
   "source": [
    "In this case, we created a group and counted how many times each value appears.\n",
    "\n",
    "`value_counts` is just a shortcut to this `groupby` operation. We can also use any of the summary functions with groups."
   ]
  },
  {
   "cell_type": "code",
   "execution_count": 2,
   "metadata": {},
   "outputs": [
    {
     "data": {
      "text/plain": [
       "attacker_king\n",
       "Balon/Euron Greyjoy           20.0\n",
       "Joffrey/Tommen Baratheon     618.0\n",
       "Robb Stark                   100.0\n",
       "Stannis Baratheon           4500.0\n",
       "Name: attacker_size, dtype: float64"
      ]
     },
     "execution_count": 2,
     "metadata": {},
     "output_type": "execute_result"
    }
   ],
   "source": [
    "battles_got.groupby('attacker_king').attacker_size.min()"
   ]
  },
  {
   "cell_type": "code",
   "execution_count": null,
   "metadata": {},
   "outputs": [],
   "source": []
  },
  {
   "cell_type": "code",
   "execution_count": null,
   "metadata": {},
   "outputs": [],
   "source": []
  }
 ],
 "metadata": {
  "kernelspec": {
   "display_name": "Python 3",
   "language": "python",
   "name": "python3"
  },
  "language_info": {
   "codemirror_mode": {
    "name": "ipython",
    "version": 3
   },
   "file_extension": ".py",
   "mimetype": "text/x-python",
   "name": "python",
   "nbconvert_exporter": "python",
   "pygments_lexer": "ipython3",
   "version": "3.6.4"
  }
 },
 "nbformat": 4,
 "nbformat_minor": 2
}
